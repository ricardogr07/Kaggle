{
 "cells": [
  {
   "cell_type": "markdown",
   "id": "e93e5bbf",
   "metadata": {
    "papermill": {
     "duration": 0.00864,
     "end_time": "2024-09-17T10:36:24.280214",
     "exception": false,
     "start_time": "2024-09-17T10:36:24.271574",
     "status": "completed"
    },
    "tags": []
   },
   "source": [
    "# Titanic Example"
   ]
  },
  {
   "cell_type": "code",
   "execution_count": 1,
   "id": "e243dd5b",
   "metadata": {
    "_cell_guid": "b1076dfc-b9ad-4769-8c92-a6c4dae69d19",
    "_uuid": "8f2839f25d086af736a60e9eeb907d3b93b6e0e5",
    "execution": {
     "iopub.execute_input": "2024-09-17T10:36:24.298917Z",
     "iopub.status.busy": "2024-09-17T10:36:24.298510Z",
     "iopub.status.idle": "2024-09-17T10:36:27.003744Z",
     "shell.execute_reply": "2024-09-17T10:36:27.002941Z"
    },
    "papermill": {
     "duration": 2.71666,
     "end_time": "2024-09-17T10:36:27.006048",
     "exception": false,
     "start_time": "2024-09-17T10:36:24.289388",
     "status": "completed"
    },
    "tags": []
   },
   "outputs": [],
   "source": [
    "#Import libraries\n",
    "import numpy as np\n",
    "import pandas as pd\n",
    "\n",
    "import seaborn as sns\n",
    "import matplotlib.pyplot as plt\n",
    "\n",
    "from imblearn.over_sampling import SMOTE, RandomOverSampler\n",
    "from imblearn.under_sampling import RandomUnderSampler, NearMiss\n",
    "\n",
    "from sklearn.model_selection import train_test_split\n",
    "from sklearn.feature_selection import SequentialFeatureSelector\n",
    "from sklearn.linear_model import LogisticRegression\n",
    "from sklearn.ensemble import RandomForestClassifier, GradientBoostingClassifier\n",
    "from sklearn.svm import SVC\n",
    "from sklearn.tree import DecisionTreeClassifier\n",
    "from sklearn.neighbors import KNeighborsClassifier\n",
    "from sklearn.naive_bayes import GaussianNB\n",
    "from sklearn.model_selection import StratifiedKFold, cross_val_predict\n",
    "from sklearn.metrics import accuracy_score, precision_score, recall_score, f1_score, roc_auc_score\n",
    "\n",
    "from sklearn.model_selection import GridSearchCV, RandomizedSearchCV"
   ]
  },
  {
   "cell_type": "markdown",
   "id": "f213a0ac",
   "metadata": {
    "papermill": {
     "duration": 0.00754,
     "end_time": "2024-09-17T10:36:27.021652",
     "exception": false,
     "start_time": "2024-09-17T10:36:27.014112",
     "status": "completed"
    },
    "tags": []
   },
   "source": [
    "## Loading Dataset"
   ]
  },
  {
   "cell_type": "code",
   "execution_count": 2,
   "id": "0425a229",
   "metadata": {
    "execution": {
     "iopub.execute_input": "2024-09-17T10:36:27.039047Z",
     "iopub.status.busy": "2024-09-17T10:36:27.038532Z",
     "iopub.status.idle": "2024-09-17T10:36:27.088587Z",
     "shell.execute_reply": "2024-09-17T10:36:27.087676Z"
    },
    "papermill": {
     "duration": 0.061401,
     "end_time": "2024-09-17T10:36:27.090839",
     "exception": false,
     "start_time": "2024-09-17T10:36:27.029438",
     "status": "completed"
    },
    "tags": []
   },
   "outputs": [
    {
     "name": "stdout",
     "output_type": "stream",
     "text": [
      "<class 'pandas.core.frame.DataFrame'>\n",
      "RangeIndex: 891 entries, 0 to 890\n",
      "Data columns (total 12 columns):\n",
      " #   Column       Non-Null Count  Dtype  \n",
      "---  ------       --------------  -----  \n",
      " 0   PassengerId  891 non-null    int64  \n",
      " 1   Survived     891 non-null    int64  \n",
      " 2   Pclass       891 non-null    int64  \n",
      " 3   Name         891 non-null    object \n",
      " 4   Sex          891 non-null    object \n",
      " 5   Age          714 non-null    float64\n",
      " 6   SibSp        891 non-null    int64  \n",
      " 7   Parch        891 non-null    int64  \n",
      " 8   Ticket       891 non-null    object \n",
      " 9   Fare         891 non-null    float64\n",
      " 10  Cabin        204 non-null    object \n",
      " 11  Embarked     889 non-null    object \n",
      "dtypes: float64(2), int64(5), object(5)\n",
      "memory usage: 83.7+ KB\n"
     ]
    }
   ],
   "source": [
    "# Load the data\n",
    "df = pd.read_csv('/kaggle/input/titanic/train.csv')\n",
    "df.info()"
   ]
  },
  {
   "cell_type": "code",
   "execution_count": 3,
   "id": "307bf89c",
   "metadata": {
    "execution": {
     "iopub.execute_input": "2024-09-17T10:36:27.108049Z",
     "iopub.status.busy": "2024-09-17T10:36:27.107723Z",
     "iopub.status.idle": "2024-09-17T10:36:27.114701Z",
     "shell.execute_reply": "2024-09-17T10:36:27.113919Z"
    },
    "papermill": {
     "duration": 0.017768,
     "end_time": "2024-09-17T10:36:27.116740",
     "exception": false,
     "start_time": "2024-09-17T10:36:27.098972",
     "status": "completed"
    },
    "tags": []
   },
   "outputs": [
    {
     "name": "stdout",
     "output_type": "stream",
     "text": [
      "Age         177\n",
      "Cabin       687\n",
      "Embarked      2\n",
      "dtype: int64\n"
     ]
    }
   ],
   "source": [
    "# Check for missing values in the dataset\n",
    "missing_values = df.isnull().sum()\n",
    "\n",
    "# Display columns with missing values\n",
    "print(missing_values[missing_values > 0])"
   ]
  },
  {
   "cell_type": "markdown",
   "id": "8521ea23",
   "metadata": {
    "papermill": {
     "duration": 0.007676,
     "end_time": "2024-09-17T10:36:27.132626",
     "exception": false,
     "start_time": "2024-09-17T10:36:27.124950",
     "status": "completed"
    },
    "tags": []
   },
   "source": [
    "## Cleaning and Preprocessing Data"
   ]
  },
  {
   "cell_type": "code",
   "execution_count": 4,
   "id": "992d7068",
   "metadata": {
    "execution": {
     "iopub.execute_input": "2024-09-17T10:36:27.150044Z",
     "iopub.status.busy": "2024-09-17T10:36:27.149326Z",
     "iopub.status.idle": "2024-09-17T10:36:27.157100Z",
     "shell.execute_reply": "2024-09-17T10:36:27.156258Z"
    },
    "papermill": {
     "duration": 0.018589,
     "end_time": "2024-09-17T10:36:27.159067",
     "exception": false,
     "start_time": "2024-09-17T10:36:27.140478",
     "status": "completed"
    },
    "tags": []
   },
   "outputs": [],
   "source": [
    "# Drop the 'Cabin' column due to too many missing values\n",
    "df = df.drop(columns=['Cabin'])"
   ]
  },
  {
   "cell_type": "code",
   "execution_count": 5,
   "id": "4a11f040",
   "metadata": {
    "execution": {
     "iopub.execute_input": "2024-09-17T10:36:27.176607Z",
     "iopub.status.busy": "2024-09-17T10:36:27.176078Z",
     "iopub.status.idle": "2024-09-17T10:36:27.181580Z",
     "shell.execute_reply": "2024-09-17T10:36:27.180779Z"
    },
    "papermill": {
     "duration": 0.016306,
     "end_time": "2024-09-17T10:36:27.183634",
     "exception": false,
     "start_time": "2024-09-17T10:36:27.167328",
     "status": "completed"
    },
    "tags": []
   },
   "outputs": [],
   "source": [
    "# Convert 'Sex' to numerical values (0 = male, 1 = female)\n",
    "df['Sex'] = df['Sex'].map({'male': 0, 'female': 1})"
   ]
  },
  {
   "cell_type": "code",
   "execution_count": 6,
   "id": "6005db57",
   "metadata": {
    "execution": {
     "iopub.execute_input": "2024-09-17T10:36:27.201102Z",
     "iopub.status.busy": "2024-09-17T10:36:27.200521Z",
     "iopub.status.idle": "2024-09-17T10:36:27.207762Z",
     "shell.execute_reply": "2024-09-17T10:36:27.206938Z"
    },
    "papermill": {
     "duration": 0.01839,
     "end_time": "2024-09-17T10:36:27.209939",
     "exception": false,
     "start_time": "2024-09-17T10:36:27.191549",
     "status": "completed"
    },
    "tags": []
   },
   "outputs": [
    {
     "name": "stdout",
     "output_type": "stream",
     "text": [
      "0\n"
     ]
    }
   ],
   "source": [
    "# Check the mode (most common value) of the 'Embarked' column\n",
    "most_common_embarked = df['Embarked'].mode()[0]\n",
    "\n",
    "# Fill missing values in 'Embarked' with the most common value using\n",
    "df.loc[:, 'Embarked'] = df['Embarked'].fillna(most_common_embarked)\n",
    "\n",
    "# Verify if all missing values in 'Embarked' are handled\n",
    "print(df['Embarked'].isnull().sum())"
   ]
  },
  {
   "cell_type": "code",
   "execution_count": 7,
   "id": "b4b55b79",
   "metadata": {
    "execution": {
     "iopub.execute_input": "2024-09-17T10:36:27.226974Z",
     "iopub.status.busy": "2024-09-17T10:36:27.226677Z",
     "iopub.status.idle": "2024-09-17T10:36:27.258457Z",
     "shell.execute_reply": "2024-09-17T10:36:27.257583Z"
    },
    "papermill": {
     "duration": 0.042562,
     "end_time": "2024-09-17T10:36:27.260410",
     "exception": false,
     "start_time": "2024-09-17T10:36:27.217848",
     "status": "completed"
    },
    "tags": []
   },
   "outputs": [
    {
     "name": "stdout",
     "output_type": "stream",
     "text": [
      "0\n"
     ]
    }
   ],
   "source": [
    "# Fill missing Age values using the mean age of passengers with the same Sex, Pclass, SibSp, and Parch\n",
    "df['Age'] = df.groupby(['Sex', 'Pclass', 'SibSp', 'Parch'])['Age'].transform(lambda x: x.fillna(x.mean()))\n",
    "\n",
    "# For any remaining NaN values, fill using just Sex and Pclass\n",
    "df['Age'] = df.groupby(['Sex', 'Pclass'])['Age'].transform(lambda x: x.fillna(x.mean()))\n",
    "\n",
    "# Check if there are any missing Age values left\n",
    "print(df['Age'].isnull().sum())"
   ]
  },
  {
   "cell_type": "code",
   "execution_count": 8,
   "id": "4314f8d4",
   "metadata": {
    "execution": {
     "iopub.execute_input": "2024-09-17T10:36:27.278129Z",
     "iopub.status.busy": "2024-09-17T10:36:27.277581Z",
     "iopub.status.idle": "2024-09-17T10:36:27.283341Z",
     "shell.execute_reply": "2024-09-17T10:36:27.282476Z"
    },
    "papermill": {
     "duration": 0.016585,
     "end_time": "2024-09-17T10:36:27.285161",
     "exception": false,
     "start_time": "2024-09-17T10:36:27.268576",
     "status": "completed"
    },
    "tags": []
   },
   "outputs": [],
   "source": [
    "# Convert 'Embarked' to numerical values (S = 0, C = 1, Q = 2)\n",
    "df['Embarked'] = df['Embarked'].map({'S': 0, 'C': 1, 'Q': 2})"
   ]
  },
  {
   "cell_type": "code",
   "execution_count": 9,
   "id": "cfafbd4a",
   "metadata": {
    "execution": {
     "iopub.execute_input": "2024-09-17T10:36:27.303545Z",
     "iopub.status.busy": "2024-09-17T10:36:27.303244Z",
     "iopub.status.idle": "2024-09-17T10:36:27.308334Z",
     "shell.execute_reply": "2024-09-17T10:36:27.307506Z"
    },
    "papermill": {
     "duration": 0.017094,
     "end_time": "2024-09-17T10:36:27.310224",
     "exception": false,
     "start_time": "2024-09-17T10:36:27.293130",
     "status": "completed"
    },
    "tags": []
   },
   "outputs": [],
   "source": [
    "# Drop these columns since they don't give any information\n",
    "df = df.drop(columns=['Name', 'Ticket', 'PassengerId'])"
   ]
  },
  {
   "cell_type": "code",
   "execution_count": 10,
   "id": "4092d596",
   "metadata": {
    "execution": {
     "iopub.execute_input": "2024-09-17T10:36:27.328488Z",
     "iopub.status.busy": "2024-09-17T10:36:27.327753Z",
     "iopub.status.idle": "2024-09-17T10:36:27.337973Z",
     "shell.execute_reply": "2024-09-17T10:36:27.337107Z"
    },
    "papermill": {
     "duration": 0.021853,
     "end_time": "2024-09-17T10:36:27.340616",
     "exception": false,
     "start_time": "2024-09-17T10:36:27.318763",
     "status": "completed"
    },
    "tags": []
   },
   "outputs": [
    {
     "name": "stdout",
     "output_type": "stream",
     "text": [
      "<class 'pandas.core.frame.DataFrame'>\n",
      "RangeIndex: 891 entries, 0 to 890\n",
      "Data columns (total 8 columns):\n",
      " #   Column    Non-Null Count  Dtype  \n",
      "---  ------    --------------  -----  \n",
      " 0   Survived  891 non-null    int64  \n",
      " 1   Pclass    891 non-null    int64  \n",
      " 2   Sex       891 non-null    int64  \n",
      " 3   Age       891 non-null    float64\n",
      " 4   SibSp     891 non-null    int64  \n",
      " 5   Parch     891 non-null    int64  \n",
      " 6   Fare      891 non-null    float64\n",
      " 7   Embarked  891 non-null    int64  \n",
      "dtypes: float64(2), int64(6)\n",
      "memory usage: 55.8 KB\n"
     ]
    }
   ],
   "source": [
    "df.info()"
   ]
  },
  {
   "cell_type": "markdown",
   "id": "3c8ad8fc",
   "metadata": {
    "papermill": {
     "duration": 0.00802,
     "end_time": "2024-09-17T10:36:27.356836",
     "exception": false,
     "start_time": "2024-09-17T10:36:27.348816",
     "status": "completed"
    },
    "tags": []
   },
   "source": [
    "## EDA"
   ]
  },
  {
   "cell_type": "code",
   "execution_count": 11,
   "id": "bddaf601",
   "metadata": {
    "execution": {
     "iopub.execute_input": "2024-09-17T10:36:27.374549Z",
     "iopub.status.busy": "2024-09-17T10:36:27.374180Z",
     "iopub.status.idle": "2024-09-17T10:36:27.400436Z",
     "shell.execute_reply": "2024-09-17T10:36:27.399303Z"
    },
    "papermill": {
     "duration": 0.037519,
     "end_time": "2024-09-17T10:36:27.402518",
     "exception": false,
     "start_time": "2024-09-17T10:36:27.364999",
     "status": "completed"
    },
    "tags": []
   },
   "outputs": [
    {
     "name": "stdout",
     "output_type": "stream",
     "text": [
      "Statistical Summary:\n",
      "          Survived      Pclass         Sex         Age       SibSp       Parch  \\\n",
      "count  891.000000  891.000000  891.000000  891.000000  891.000000  891.000000   \n",
      "mean     0.383838    2.308642    0.352413   29.637059    0.523008    0.381594   \n",
      "std      0.486592    0.836071    0.477990   13.437277    1.102743    0.806057   \n",
      "min      0.000000    1.000000    0.000000    0.420000    0.000000    0.000000   \n",
      "25%      0.000000    2.000000    0.000000   22.000000    0.000000    0.000000   \n",
      "50%      0.000000    3.000000    0.000000   29.184492    0.000000    0.000000   \n",
      "75%      1.000000    3.000000    1.000000   36.000000    1.000000    0.000000   \n",
      "max      1.000000    3.000000    1.000000   80.000000    8.000000    6.000000   \n",
      "\n",
      "             Fare    Embarked  \n",
      "count  891.000000  891.000000  \n",
      "mean    32.204208    0.361392  \n",
      "std     49.693429    0.635673  \n",
      "min      0.000000    0.000000  \n",
      "25%      7.910400    0.000000  \n",
      "50%     14.454200    0.000000  \n",
      "75%     31.000000    1.000000  \n",
      "max    512.329200    2.000000  \n"
     ]
    }
   ],
   "source": [
    "# 1. Statistical Summary\n",
    "print(\"Statistical Summary:\\n\", df.describe())"
   ]
  },
  {
   "cell_type": "code",
   "execution_count": 12,
   "id": "d2173c47",
   "metadata": {
    "execution": {
     "iopub.execute_input": "2024-09-17T10:36:27.420629Z",
     "iopub.status.busy": "2024-09-17T10:36:27.420335Z",
     "iopub.status.idle": "2024-09-17T10:36:28.220151Z",
     "shell.execute_reply": "2024-09-17T10:36:28.219314Z"
    },
    "papermill": {
     "duration": 0.812206,
     "end_time": "2024-09-17T10:36:28.223119",
     "exception": false,
     "start_time": "2024-09-17T10:36:27.410913",
     "status": "completed"
    },
    "tags": []
   },
   "outputs": [
    {
     "name": "stderr",
     "output_type": "stream",
     "text": [
      "/opt/conda/lib/python3.10/site-packages/seaborn/_oldcore.py:1119: FutureWarning: use_inf_as_na option is deprecated and will be removed in a future version. Convert inf values to NaN before operating instead.\n",
      "  with pd.option_context('mode.use_inf_as_na', True):\n",
      "/opt/conda/lib/python3.10/site-packages/seaborn/_oldcore.py:1119: FutureWarning: use_inf_as_na option is deprecated and will be removed in a future version. Convert inf values to NaN before operating instead.\n",
      "  with pd.option_context('mode.use_inf_as_na', True):\n"
     ]
    },
    {
     "data": {
      "image/png": "[encoded data removed]",
      "text/plain": [
       "<Figure size 1400x600 with 2 Axes>"
      ]
     },
     "metadata": {},
     "output_type": "display_data"
    }
   ],
   "source": [
    "# 2. Distribution of Features\n",
    "plt.figure(figsize=(14, 6))\n",
    "\n",
    "# Distribution of Age\n",
    "plt.subplot(1, 2, 1)\n",
    "sns.histplot(df['Age'], bins=20, kde=True, color='blue')\n",
    "plt.title('Age Distribution')\n",
    "\n",
    "# Distribution of Fare\n",
    "plt.subplot(1, 2, 2)\n",
    "sns.histplot(df['Fare'], bins=20, kde=True, color='green')\n",
    "plt.title('Fare Distribution')\n",
    "\n",
    "plt.tight_layout()\n",
    "plt.show()"
   ]
  },
  {
   "cell_type": "code",
   "execution_count": 13,
   "id": "f33669d8",
   "metadata": {
    "execution": {
     "iopub.execute_input": "2024-09-17T10:36:28.244571Z",
     "iopub.status.busy": "2024-09-17T10:36:28.244224Z",
     "iopub.status.idle": "2024-09-17T10:36:29.223989Z",
     "shell.execute_reply": "2024-09-17T10:36:29.223098Z"
    },
    "papermill": {
     "duration": 0.992238,
     "end_time": "2024-09-17T10:36:29.226147",
     "exception": false,
     "start_time": "2024-09-17T10:36:28.233909",
     "status": "completed"
    },
    "tags": []
   },
   "outputs": [
    {
     "data": {
      "image/png": "[encoded data removed]",
      "text/plain": [
       "<Figure size 800x600 with 1 Axes>"
      ]
     },
     "metadata": {},
     "output_type": "display_data"
    },
    {
     "data": {
      "image/png": "[encoded data removed]",
      "text/plain": [
       "<Figure size 800x600 with 1 Axes>"
      ]
     },
     "metadata": {},
     "output_type": "display_data"
    },
    {
     "data": {
      "image/png": "[encoded data removed]",
      "text/plain": [
       "<Figure size 800x600 with 1 Axes>"
      ]
     },
     "metadata": {},
     "output_type": "display_data"
    }
   ],
   "source": [
    "# 3. Survival Rates by Categorical Variables\n",
    "# Survival by Sex\n",
    "plt.figure(figsize=(8, 6))\n",
    "sns.barplot(x='Sex', y='Survived', data=df)\n",
    "plt.title('Survival by Sex')\n",
    "plt.show()\n",
    "\n",
    "# Survival by Pclass\n",
    "plt.figure(figsize=(8, 6))\n",
    "sns.barplot(x='Pclass', y='Survived', data=df)\n",
    "plt.title('Survival by Pclass')\n",
    "plt.show()\n",
    "\n",
    "# Survival by Embarked\n",
    "plt.figure(figsize=(8, 6))\n",
    "sns.barplot(x='Embarked', y='Survived', data=df)\n",
    "plt.title('Survival by Embarked Port')\n",
    "plt.show()"
   ]
  },
  {
   "cell_type": "code",
   "execution_count": 14,
   "id": "9e5ddd66",
   "metadata": {
    "execution": {
     "iopub.execute_input": "2024-09-17T10:36:29.247808Z",
     "iopub.status.busy": "2024-09-17T10:36:29.247497Z",
     "iopub.status.idle": "2024-09-17T10:36:29.810273Z",
     "shell.execute_reply": "2024-09-17T10:36:29.809340Z"
    },
    "papermill": {
     "duration": 0.576532,
     "end_time": "2024-09-17T10:36:29.813015",
     "exception": false,
     "start_time": "2024-09-17T10:36:29.236483",
     "status": "completed"
    },
    "tags": []
   },
   "outputs": [
    {
     "data": {
      "image/png": "[encoded data removed]",
      "text/plain": [
       "<Figure size 1000x800 with 2 Axes>"
      ]
     },
     "metadata": {},
     "output_type": "display_data"
    }
   ],
   "source": [
    "# 4. Correlation Matrix\n",
    "plt.figure(figsize=(10, 8))\n",
    "sns.heatmap(df.corr(), annot=True, cmap='coolwarm', linewidths=0.5)\n",
    "plt.title('Correlation Heatmap')\n",
    "plt.show()"
   ]
  },
  {
   "cell_type": "markdown",
   "id": "989a0761",
   "metadata": {
    "papermill": {
     "duration": 0.010722,
     "end_time": "2024-09-17T10:36:29.835172",
     "exception": false,
     "start_time": "2024-09-17T10:36:29.824450",
     "status": "completed"
    },
    "tags": []
   },
   "source": [
    "## Feature Selection"
   ]
  },
  {
   "cell_type": "code",
   "execution_count": 15,
   "id": "f2453228",
   "metadata": {
    "execution": {
     "iopub.execute_input": "2024-09-17T10:36:29.859099Z",
     "iopub.status.busy": "2024-09-17T10:36:29.858462Z",
     "iopub.status.idle": "2024-09-17T10:36:31.338765Z",
     "shell.execute_reply": "2024-09-17T10:36:31.337791Z"
    },
    "papermill": {
     "duration": 1.494552,
     "end_time": "2024-09-17T10:36:31.340812",
     "exception": false,
     "start_time": "2024-09-17T10:36:29.846260",
     "status": "completed"
    },
    "tags": []
   },
   "outputs": [
    {
     "name": "stdout",
     "output_type": "stream",
     "text": [
      "                    Accuracy  Precision    Recall  F1-score   AUC-ROC\n",
      "All Features        0.809701   0.800000  0.720721  0.758294  0.883514\n",
      "Backward Selection  0.828358   0.821782  0.747748  0.783019  0.887933\n",
      "Forward Selection   0.809701   0.812500  0.702703  0.753623  0.860561\n"
     ]
    }
   ],
   "source": [
    "# Function to compute the metrics and return a dictionary\n",
    "def compute_metrics(model, X_test, y_test):\n",
    "    # Predictions and predicted probabilities\n",
    "    y_pred = model.predict(X_test)\n",
    "    y_prob = model.predict_proba(X_test)[:, 1]\n",
    "\n",
    "    # Compute metrics\n",
    "    metrics = {\n",
    "        'Accuracy': accuracy_score(y_test, y_pred),\n",
    "        'Precision': precision_score(y_test, y_pred),\n",
    "        'Recall': recall_score(y_test, y_pred),\n",
    "        'F1-score': f1_score(y_test, y_pred),\n",
    "        'AUC-ROC': roc_auc_score(y_test, y_prob)\n",
    "    }\n",
    "\n",
    "    return metrics\n",
    "\n",
    "# Split the data into training and testing sets (30% for testing)\n",
    "X = df.drop(columns=['Survived'])\n",
    "y = df['Survived']\n",
    "\n",
    "X_train, X_test, y_train, y_test = train_test_split(X, y, test_size=0.30, random_state=42)\n",
    "\n",
    "# Train Logistic Regression on all features (baseline model)\n",
    "model_all = LogisticRegression(max_iter=500)\n",
    "model_all.fit(X_train, y_train)\n",
    "\n",
    "# Compute metrics for the model with all features\n",
    "metrics_all = compute_metrics(model_all, X_test, y_test)\n",
    "\n",
    "# Backward stepwise feature selection\n",
    "model_backward = LogisticRegression(max_iter=500)\n",
    "\n",
    "# Use SequentialFeatureSelector for backward selection\n",
    "backward_selector = SequentialFeatureSelector(model_backward, n_features_to_select=\"auto\", direction='backward', scoring='accuracy')\n",
    "backward_selector.fit(X_train, y_train)\n",
    "\n",
    "# Get selected features and train the model\n",
    "X_train_backward = backward_selector.transform(X_train)\n",
    "X_test_backward = backward_selector.transform(X_test)\n",
    "\n",
    "model_backward.fit(X_train_backward, y_train)\n",
    "\n",
    "# Compute metrics for backward selection\n",
    "metrics_backward = compute_metrics(model_backward, X_test_backward, y_test)\n",
    "\n",
    "# Forward stepwise feature selection\n",
    "model_forward = LogisticRegression(max_iter=500)\n",
    "\n",
    "# Use SequentialFeatureSelector for forward selection\n",
    "forward_selector = SequentialFeatureSelector(model_forward, n_features_to_select=\"auto\", direction='forward', scoring='accuracy')\n",
    "forward_selector.fit(X_train, y_train)\n",
    "\n",
    "# Get selected features and train the model\n",
    "X_train_forward = forward_selector.transform(X_train)\n",
    "X_test_forward = forward_selector.transform(X_test)\n",
    "\n",
    "model_forward.fit(X_train_forward, y_train)\n",
    "\n",
    "# Compute metrics for forward selection\n",
    "metrics_forward = compute_metrics(model_forward, X_test_forward, y_test)\n",
    "\n",
    "# Create a DataFrame to store the results\n",
    "results = pd.DataFrame({\n",
    "    'All Features': metrics_all,\n",
    "    'Backward Selection': metrics_backward,\n",
    "    'Forward Selection': metrics_forward\n",
    "}).T  # Transpose to have the models as rows\n",
    "\n",
    "# Display the DataFrame\n",
    "print(results)\n"
   ]
  },
  {
   "cell_type": "code",
   "execution_count": 16,
   "id": "7a1bbad2",
   "metadata": {
    "execution": {
     "iopub.execute_input": "2024-09-17T10:36:31.365185Z",
     "iopub.status.busy": "2024-09-17T10:36:31.364832Z",
     "iopub.status.idle": "2024-09-17T10:36:31.371290Z",
     "shell.execute_reply": "2024-09-17T10:36:31.370323Z"
    },
    "papermill": {
     "duration": 0.021007,
     "end_time": "2024-09-17T10:36:31.373173",
     "exception": false,
     "start_time": "2024-09-17T10:36:31.352166",
     "status": "completed"
    },
    "tags": []
   },
   "outputs": [
    {
     "data": {
      "text/plain": [
       "['Pclass', 'Sex', 'Age', 'SibSp']"
      ]
     },
     "execution_count": 16,
     "metadata": {},
     "output_type": "execute_result"
    }
   ],
   "source": [
    "selected_mask = backward_selector.get_support()\n",
    "\n",
    "selected_features = X.columns[selected_mask].tolist()\n",
    "\n",
    "selected_features"
   ]
  },
  {
   "cell_type": "markdown",
   "id": "6f4e9a51",
   "metadata": {
    "papermill": {
     "duration": 0.010805,
     "end_time": "2024-09-17T10:36:31.395367",
     "exception": false,
     "start_time": "2024-09-17T10:36:31.384562",
     "status": "completed"
    },
    "tags": []
   },
   "source": [
    "## Balancing Techniques"
   ]
  },
  {
   "cell_type": "code",
   "execution_count": 17,
   "id": "b445ff70",
   "metadata": {
    "execution": {
     "iopub.execute_input": "2024-09-17T10:36:31.419511Z",
     "iopub.status.busy": "2024-09-17T10:36:31.418660Z",
     "iopub.status.idle": "2024-09-17T10:36:31.538058Z",
     "shell.execute_reply": "2024-09-17T10:36:31.537136Z"
    },
    "papermill": {
     "duration": 0.1337,
     "end_time": "2024-09-17T10:36:31.540138",
     "exception": false,
     "start_time": "2024-09-17T10:36:31.406438",
     "status": "completed"
    },
    "tags": []
   },
   "outputs": [
    {
     "name": "stdout",
     "output_type": "stream",
     "text": [
      "                      Accuracy  Precision    Recall  F1-score   AUC-ROC\n",
      "No Balancing          0.828358   0.821782  0.747748  0.783019  0.887933\n",
      "SMOTE                 0.813433   0.747967  0.828829  0.786325  0.887187\n",
      "Random OverSampling   0.805970   0.736000  0.828829  0.779661  0.885637\n",
      "Random UnderSampling  0.805970   0.732283  0.837838  0.781513  0.888908\n",
      "NearMiss              0.802239   0.726562  0.837838  0.778243  0.850577\n"
     ]
    }
   ],
   "source": [
    "# Recreate X (features) and y (target) from df\n",
    "X = df[selected_features]  # All selected features from feature selection\n",
    "y = df['Survived']  # Target variable\n",
    "\n",
    "# Split the data into training and testing sets\n",
    "X_train, X_test, y_train, y_test = train_test_split(X, y, test_size=0.30, random_state=42)\n",
    "\n",
    "# Step 1: Original model with no balancing\n",
    "model = LogisticRegression(max_iter=500)\n",
    "\n",
    "model.fit(X_train, y_train)\n",
    "metrics_no_balancing = compute_metrics(model, X_test, y_test)\n",
    "\n",
    "# Step 2: SMOTE (Synthetic Minority Over-sampling Technique)\n",
    "smote = SMOTE(random_state=42)\n",
    "X_train_smote, y_train_smote = smote.fit_resample(X_train, y_train)\n",
    "model.fit(X_train_smote, y_train_smote)\n",
    "metrics_smote = compute_metrics(model, X_test, y_test)\n",
    "\n",
    "# Step 3: Random OverSampling\n",
    "ros = RandomOverSampler(random_state=42)\n",
    "X_train_ros, y_train_ros = ros.fit_resample(X_train, y_train)\n",
    "model.fit(X_train_ros, y_train_ros)\n",
    "metrics_random_oversampling = compute_metrics(model, X_test, y_test)\n",
    "\n",
    "# Step 4: Random UnderSampling\n",
    "rus = RandomUnderSampler(random_state=42)\n",
    "X_train_rus, y_train_rus = rus.fit_resample(X_train, y_train)\n",
    "model.fit(X_train_rus, y_train_rus)\n",
    "metrics_random_undersampling = compute_metrics(model, X_test, y_test)\n",
    "\n",
    "# Step 5: NearMiss\n",
    "nearmiss = NearMiss()\n",
    "X_train_nearmiss, y_train_nearmiss = nearmiss.fit_resample(X_train, y_train)\n",
    "model.fit(X_train_nearmiss, y_train_nearmiss)\n",
    "metrics_nearmiss = compute_metrics(model, X_test, y_test)\n",
    "\n",
    "# Step 6: Create DataFrame with results\n",
    "results = pd.DataFrame({\n",
    "    'No Balancing': metrics_no_balancing,\n",
    "    'SMOTE': metrics_smote,\n",
    "    'Random OverSampling': metrics_random_oversampling,\n",
    "    'Random UnderSampling': metrics_random_undersampling,\n",
    "    'NearMiss': metrics_nearmiss\n",
    "}).T  # Transpose to have the models as rows\n",
    "\n",
    "# Display the DataFrame\n",
    "print(results)"
   ]
  },
  {
   "cell_type": "markdown",
   "id": "f7b84128",
   "metadata": {
    "papermill": {
     "duration": 0.011187,
     "end_time": "2024-09-17T10:36:31.562968",
     "exception": false,
     "start_time": "2024-09-17T10:36:31.551781",
     "status": "completed"
    },
    "tags": []
   },
   "source": [
    "## Model selection"
   ]
  },
  {
   "cell_type": "code",
   "execution_count": 18,
   "id": "477267ef",
   "metadata": {
    "execution": {
     "iopub.execute_input": "2024-09-17T10:36:31.586873Z",
     "iopub.status.busy": "2024-09-17T10:36:31.586531Z",
     "iopub.status.idle": "2024-09-17T10:36:35.317632Z",
     "shell.execute_reply": "2024-09-17T10:36:35.316226Z"
    },
    "papermill": {
     "duration": 3.745823,
     "end_time": "2024-09-17T10:36:35.319857",
     "exception": false,
     "start_time": "2024-09-17T10:36:31.574034",
     "status": "completed"
    },
    "tags": []
   },
   "outputs": [
    {
     "name": "stdout",
     "output_type": "stream",
     "text": [
      "                     Accuracy  Precision    Recall  F1-score   AUC-ROC\n",
      "Logistic Regression  0.792937   0.745192  0.670996  0.706150  0.838231\n",
      "Random Forest        0.794543   0.735160  0.696970  0.715556  0.827817\n",
      "SVC                  0.653291   0.682927  0.121212  0.205882  0.774500\n",
      "K-Nearest Neighbors  0.739968   0.682540  0.558442  0.614286  0.764605\n",
      "Decision Tree        0.783307   0.720183  0.679654  0.699332  0.777415\n",
      "Gradient Boosting    0.808989   0.804348  0.640693  0.713253  0.838662\n",
      "Naive Bayes          0.762440   0.681223  0.675325  0.678261  0.821821\n"
     ]
    }
   ],
   "source": [
    "# Define the models to compare\n",
    "models = {\n",
    "    'Logistic Regression': LogisticRegression(max_iter=500),\n",
    "    'Random Forest': RandomForestClassifier(random_state=42),\n",
    "    'SVC': SVC(probability=True),  # Enable probability output for AUC\n",
    "    'K-Nearest Neighbors': KNeighborsClassifier(),\n",
    "    'Decision Tree': DecisionTreeClassifier(random_state=42),\n",
    "    'Gradient Boosting': GradientBoostingClassifier(random_state=42),\n",
    "    'Naive Bayes': GaussianNB()\n",
    "}\n",
    "\n",
    "# Prepare the dataset (using the features selected by backward selection)\n",
    "X = df[selected_features]  # Use the features selected by backward selection\n",
    "y = df['Survived']  # Target variable\n",
    "\n",
    "# Split the data into training and test sets\n",
    "X_train, X_test, y_train, y_test = train_test_split(X, y, test_size=0.30, random_state=42)\n",
    "\n",
    "# Initialize Stratified K-Fold (with shuffle)\n",
    "skf = StratifiedKFold(n_splits=5, shuffle=True, random_state=42)\n",
    "\n",
    "# Function to compute metrics for cross-validated predictions (on training set)\n",
    "def compute_metrics_cv(model, X_train, y_train, skf):\n",
    "    y_pred = cross_val_predict(model, X_train, y_train, cv=skf)\n",
    "    y_prob = cross_val_predict(model, X_train, y_train, cv=skf, method='predict_proba')[:, 1]\n",
    "    \n",
    "    metrics = {\n",
    "        'Accuracy': accuracy_score(y_train, y_pred),\n",
    "        'Precision': precision_score(y_train, y_pred),\n",
    "        'Recall': recall_score(y_train, y_pred),\n",
    "        'F1-score': f1_score(y_train, y_pred),\n",
    "        'AUC-ROC': roc_auc_score(y_train, y_prob)\n",
    "    }\n",
    "    return metrics\n",
    "\n",
    "# Initialize a dictionary to store the results for each model\n",
    "results = {}\n",
    "\n",
    "# Evaluate each model using cross-validation on the training set and store the results\n",
    "for model_name, model in models.items():\n",
    "    metrics = compute_metrics_cv(model, X_train, y_train, skf)\n",
    "    results[model_name] = metrics\n",
    "\n",
    "# Convert the results dictionary into a DataFrame\n",
    "results_df = pd.DataFrame(results).T  # Transpose to have models as rows\n",
    "\n",
    "# Display the DataFrame with metrics for each model\n",
    "print(results_df)"
   ]
  },
  {
   "cell_type": "markdown",
   "id": "f38f3e55",
   "metadata": {
    "papermill": {
     "duration": 0.011219,
     "end_time": "2024-09-17T10:36:35.344189",
     "exception": false,
     "start_time": "2024-09-17T10:36:35.332970",
     "status": "completed"
    },
    "tags": []
   },
   "source": [
    "## Hyperparameters tuning"
   ]
  },
  {
   "cell_type": "code",
   "execution_count": 19,
   "id": "dd1960be",
   "metadata": {
    "execution": {
     "iopub.execute_input": "2024-09-17T10:36:35.369116Z",
     "iopub.status.busy": "2024-09-17T10:36:35.368495Z",
     "iopub.status.idle": "2024-09-17T10:36:59.179538Z",
     "shell.execute_reply": "2024-09-17T10:36:59.178416Z"
    },
    "papermill": {
     "duration": 23.826729,
     "end_time": "2024-09-17T10:36:59.182340",
     "exception": false,
     "start_time": "2024-09-17T10:36:35.355611",
     "status": "completed"
    },
    "tags": []
   },
   "outputs": [
    {
     "name": "stdout",
     "output_type": "stream",
     "text": [
      "Fitting 5 folds for each of 50 candidates, totalling 250 fits\n",
      "Best Hyperparameters: {'subsample': 0.9, 'n_estimators': 100, 'min_samples_split': 2, 'min_samples_leaf': 2, 'max_depth': 4, 'learning_rate': 0.05}\n",
      "      Metric     Score\n",
      "0   Accuracy  0.828358\n",
      "1  Precision  0.882353\n",
      "2     Recall  0.675676\n",
      "3   F1-score  0.765306\n",
      "4    AUC-ROC  0.893872\n"
     ]
    }
   ],
   "source": [
    "# Define the hyperparameter distribution for Gradient Boosting\n",
    "param_dist = {\n",
    "    'n_estimators': np.arange(100, 301, 100),\n",
    "    'learning_rate': [0.01, 0.05, 0.1, 0.2],\n",
    "    'max_depth': np.arange(3, 6),\n",
    "    'min_samples_split': [2, 5, 10],\n",
    "    'min_samples_leaf': [1, 2, 4],\n",
    "    'subsample': [0.8, 0.9, 1.0]\n",
    "}\n",
    "\n",
    "gb_model = GradientBoostingClassifier(random_state=42)\n",
    "\n",
    "# Initialize RandomizedSearchCV with a reduced number of iterations\n",
    "random_search = RandomizedSearchCV(estimator=gb_model, param_distributions=param_dist, \n",
    "                                   n_iter=50, cv=5, scoring='accuracy', verbose=1, n_jobs=-1, random_state=42)\n",
    "\n",
    "# Perform the random search on the training set\n",
    "random_search.fit(X_train, y_train)\n",
    "\n",
    "# Get the best hyperparameters\n",
    "best_params = random_search.best_params_\n",
    "print(f\"Best Hyperparameters: {best_params}\")\n",
    "\n",
    "# Train the model with the best hyperparameters\n",
    "best_model = random_search.best_estimator_\n",
    "\n",
    "# Evaluate the tuned model on the test set\n",
    "y_pred = best_model.predict(X_test)\n",
    "y_prob = best_model.predict_proba(X_test)[:, 1]\n",
    "\n",
    "# Compute metrics on the test set\n",
    "accuracy = accuracy_score(y_test, y_pred)\n",
    "precision = precision_score(y_test, y_pred)\n",
    "recall = recall_score(y_test, y_pred)\n",
    "f1 = f1_score(y_test, y_pred)\n",
    "auc_roc = roc_auc_score(y_test, y_prob)\n",
    "\n",
    "# Create a DataFrame for the evaluation metrics\n",
    "metrics_df = pd.DataFrame({\n",
    "    'Metric': ['Accuracy', 'Precision', 'Recall', 'F1-score', 'AUC-ROC'],\n",
    "    'Score': [accuracy, precision, recall, f1, auc_roc]\n",
    "})\n",
    "\n",
    "# Display the DataFrame with evaluation metrics\n",
    "print(metrics_df)\n"
   ]
  },
  {
   "cell_type": "markdown",
   "id": "5b9535ab",
   "metadata": {
    "papermill": {
     "duration": 0.011485,
     "end_time": "2024-09-17T10:36:59.205768",
     "exception": false,
     "start_time": "2024-09-17T10:36:59.194283",
     "status": "completed"
    },
    "tags": []
   },
   "source": [
    "## Model Evaluation"
   ]
  },
  {
   "cell_type": "code",
   "execution_count": 20,
   "id": "04177fa6",
   "metadata": {
    "execution": {
     "iopub.execute_input": "2024-09-17T10:36:59.231050Z",
     "iopub.status.busy": "2024-09-17T10:36:59.230357Z",
     "iopub.status.idle": "2024-09-17T10:36:59.388738Z",
     "shell.execute_reply": "2024-09-17T10:36:59.387626Z"
    },
    "papermill": {
     "duration": 0.173664,
     "end_time": "2024-09-17T10:36:59.391040",
     "exception": false,
     "start_time": "2024-09-17T10:36:59.217376",
     "status": "completed"
    },
    "tags": []
   },
   "outputs": [
    {
     "name": "stdout",
     "output_type": "stream",
     "text": [
      "            Accuracy  Precision    Recall  F1-score   AUC-ROC\n",
      "Best Model  0.828358   0.882353  0.675676  0.765306  0.893872\n"
     ]
    }
   ],
   "source": [
    "from sklearn.ensemble import GradientBoostingClassifier\n",
    "from sklearn.metrics import accuracy_score, precision_score, recall_score, f1_score, roc_auc_score\n",
    "import pandas as pd\n",
    "\n",
    "# Prepare the dataset (using the features selected by backward selection)\n",
    "X = df[selected_features]  # Use the features selected by backward selection\n",
    "y = df['Survived']  # Target variable\n",
    "\n",
    "# Split the data into training and test sets\n",
    "X_train, X_test, y_train, y_test = train_test_split(X, y, test_size=0.30, random_state=42)\n",
    "\n",
    "# Initialize the Gradient Boosting model with the best hyperparameters\n",
    "best_gb_model = GradientBoostingClassifier(\n",
    "    subsample=0.9,\n",
    "    n_estimators=100,\n",
    "    min_samples_split=2,\n",
    "    min_samples_leaf=2,\n",
    "    max_depth=4,\n",
    "    learning_rate=0.05,\n",
    "    random_state=42\n",
    ")\n",
    "\n",
    "# Train the model on the training set\n",
    "best_gb_model.fit(X_train, y_train)\n",
    "\n",
    "# Evaluate the model on the test set\n",
    "y_pred = best_gb_model.predict(X_test)\n",
    "y_prob = best_gb_model.predict_proba(X_test)[:, 1]\n",
    "\n",
    "# Compute evaluation metrics\n",
    "accuracy = accuracy_score(y_test, y_pred)\n",
    "precision = precision_score(y_test, y_pred)\n",
    "recall = recall_score(y_test, y_pred)\n",
    "f1 = f1_score(y_test, y_pred)\n",
    "auc_roc = roc_auc_score(y_test, y_prob)\n",
    "\n",
    "# Create a DataFrame for the evaluation metrics\n",
    "metrics_df = pd.DataFrame({\n",
    "    'Accuracy': [accuracy],\n",
    "    'Precision': [precision],\n",
    "    'Recall': [recall],\n",
    "    'F1-score': [f1],\n",
    "    'AUC-ROC': [auc_roc]\n",
    "}, index=[\"Best Model\"])\n",
    "\n",
    "# Display the DataFrame with evaluation metrics\n",
    "print(metrics_df)"
   ]
  },
  {
   "cell_type": "markdown",
   "id": "9bc4b96b",
   "metadata": {
    "papermill": {
     "duration": 0.011704,
     "end_time": "2024-09-17T10:36:59.414814",
     "exception": false,
     "start_time": "2024-09-17T10:36:59.403110",
     "status": "completed"
    },
    "tags": []
   },
   "source": [
    "## Prepare submission file"
   ]
  },
  {
   "cell_type": "code",
   "execution_count": 21,
   "id": "542ebc91",
   "metadata": {
    "execution": {
     "iopub.execute_input": "2024-09-17T10:36:59.440970Z",
     "iopub.status.busy": "2024-09-17T10:36:59.440141Z",
     "iopub.status.idle": "2024-09-17T10:36:59.485374Z",
     "shell.execute_reply": "2024-09-17T10:36:59.484261Z"
    },
    "papermill": {
     "duration": 0.060061,
     "end_time": "2024-09-17T10:36:59.487478",
     "exception": false,
     "start_time": "2024-09-17T10:36:59.427417",
     "status": "completed"
    },
    "tags": []
   },
   "outputs": [
    {
     "name": "stdout",
     "output_type": "stream",
     "text": [
      "   PassengerId  Survived\n",
      "0          892         0\n",
      "1          893         0\n",
      "2          894         0\n",
      "3          895         0\n",
      "4          896         0\n"
     ]
    }
   ],
   "source": [
    "# Load the test dataset\n",
    "test_df = pd.read_csv('/kaggle/input/titanic/test.csv')\n",
    "\n",
    "# Ensure we apply the same preprocessing/feature engineering as we did on the training set\n",
    "\n",
    "test_df['Sex'] = test_df['Sex'].map({'male': 0, 'female': 1})\n",
    "\n",
    "test_df['Age'] = test_df.groupby(['Sex', 'Pclass', 'SibSp', 'Parch'])['Age'].transform(lambda x: x.fillna(x.mean()))\n",
    "\n",
    "# For any remaining NaN values, fill using just Sex and Pclass\n",
    "test_df['Age'] = test_df.groupby(['Sex', 'Pclass'])['Age'].transform(lambda x: x.fillna(x.mean()))\n",
    "\n",
    "# After preprocessing, select only the features that were used in the model\n",
    "X_submission = test_df[selected_features]\n",
    "\n",
    "# Make predictions using the trained Gradient Boosting model\n",
    "predictions = best_gb_model.predict(X_submission)\n",
    "\n",
    "# Create the submission DataFrame with PassengerId and Survived (binary predictions)\n",
    "submission_df = pd.DataFrame({\n",
    "    'PassengerId': test_df['PassengerId'],  # Ensure you retain the correct PassengerId\n",
    "    'Survived': predictions  # Binary predictions (1 for survived, 0 for deceased)\n",
    "})\n",
    "\n",
    "# Save the submission DataFrame to a CSV file (required format)\n",
    "submission_df.to_csv('submission.csv', index=False)\n",
    "\n",
    "# Display the first few rows of the submission file to ensure correctness\n",
    "print(submission_df.head())\n"
   ]
  }
 ],
 "metadata": {
  "kaggle": {
   "accelerator": "none",
   "dataSources": [
    {
     "databundleVersionId": 26502,
     "sourceId": 3136,
     "sourceType": "competition"
    }
   ],
   "dockerImageVersionId": 30761,
   "isGpuEnabled": false,
   "isInternetEnabled": true,
   "language": "python",
   "sourceType": "notebook"
  },
  "kernelspec": {
   "display_name": "Python 3",
   "language": "python",
   "name": "python3"
  },
  "language_info": {
   "codemirror_mode": {
    "name": "ipython",
    "version": 3
   },
   "file_extension": ".py",
   "mimetype": "text/x-python",
   "name": "python",
   "nbconvert_exporter": "python",
   "pygments_lexer": "ipython3",
   "version": "3.10.14"
  },
  "papermill": {
   "default_parameters": {},
   "duration": 40.709995,
   "end_time": "2024-09-17T10:37:02.118734",
   "environment_variables": {},
   "exception": null,
   "input_path": "__notebook__.ipynb",
   "output_path": "__notebook__.ipynb",
   "parameters": {},
   "start_time": "2024-09-17T10:36:21.408739",
   "version": "2.6.0"
  }
 },
 "nbformat": 4,
 "nbformat_minor": 5
}
